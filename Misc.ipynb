{
 "cells": [
  {
   "cell_type": "code",
   "execution_count": null,
   "metadata": {},
   "outputs": [],
   "source": []
  },
  {
   "cell_type": "markdown",
   "metadata": {},
   "source": [
    "# Why Jungle?\n",
    "When playing against the AI as a beginner, the AI chooses to have two champions in the top lane, one in the mid-lane and two in the bottom lane. At higher level play this is not seen as the meta. Instead the top-lane usually has one champion and the 5th player roams the jungle, the forested area of the map between the lanes, and \"clears\" the jungle camps. There are reasons for this like the ability to gank (sneak up on enemies and suprise attack them), but we will focus on the more core reasons why jungling is an important position in League of Legends. Namely, getting the most gold and experience out of the map.\n",
    "## There's gold in them thar jungles"
   ]
  },
  {
   "cell_type": "markdown",
   "metadata": {},
   "source": [
    "## Gold in Lane"
   ]
  },
  {
   "cell_type": "code",
   "execution_count": null,
   "metadata": {},
   "outputs": [],
   "source": [
    "# gold, solo xp pre reduction\n",
    "# melee_minion = [21, 0.2, 65]\n",
    "# caster_minion = [14, 0.2, 32]\n",
    "# siege_minion = [60, 0.5, 100]\n",
    "# wave_gold_total = 0\n",
    "# basic_minion_gold_scaling =  0\n",
    "#wave 13  still 21 and 14\n",
    "\n",
    "# wave gold doesn't seem to scale\n",
    "# for wave in range(0,10):\n",
    "#     print(wave+1)\n",
    "# #     wave_gold = 3*(melee_minion[0]+wave*melee_minion[1])+3*(caster_minion[0]+wave*caster_minion[1])\n",
    "#     wave_gold = 3*(melee_minion[0]+basic_minion_gold_scaling)+3*(caster_minion[0]+basic_minion_gold_scaling)\n",
    "#     if (((wave+1)%3==0) and (wave>0)): #checking for every third wave\n",
    "#         wave_gold += siege_minion[0]+((wave+1)/3-1)*siege_minion[1] # adding siege\n",
    "#         basic_minion_gold_scaling +=  ((wave+1)/3)*melee_minion[1] # increasing scaling\n",
    "#         wave_gold +=  6*basic_minion_gold_scaling\n",
    "#     wave_gold = round(wave_gold,2) #cleaning up floating point errors\n",
    "# #     wave_gold = 3*(melee_minion[0]+melee_minion[1])+3*(caster_minion[0]+caster_minion[1])\n",
    "#     wave_gold_total += wave_gold\n",
    "#     print(wave_gold)\n",
    "\n",
    "melee_minion = 21\n",
    "caster_minion = 14\n",
    "siege_minion = 60\n",
    "wave_gold_total = 0\n",
    "first_wave_time = 100 #1:40 or 100s\n",
    "# time_list = \n",
    "print('wave, time is sec')\n",
    "print(1, first_wave_time)\n",
    "for wave in range(0,10):\n",
    "    wave_gold = 3*(melee_minion)+3*(caster_minion)\n",
    "    if (((wave+1)%3==0) and (wave>0)): #checking for every third wave\n",
    "        wave_gold += siege_minion\n",
    "    wave_gold = round(wave_gold,2) #cleaning up floating point errors\n",
    "#     wave_gold = 3*(melee_minion[0]+melee_minion[1])+3*(caster_minion[0]+caster_minion[1])\n",
    "    wave_gold_total += wave_gold\n",
    "    print(wave_gold, wave_gold_total)\n",
    "    print('wave, time is sec')\n",
    "    print(wave+2, 100+(wave+1)*30)"
   ]
  },
  {
   "cell_type": "code",
   "execution_count": null,
   "metadata": {},
   "outputs": [],
   "source": [
    "wave_gold_total"
   ]
  },
  {
   "cell_type": "code",
   "execution_count": null,
   "metadata": {},
   "outputs": [],
   "source": [
    "# 5 min respawn\n",
    "blue = 100\n",
    "red = 100\n",
    "# 2 min respawn\n",
    "gromp = 105\n",
    "wolves = 15+15+55\n",
    "raptors = 8*5+45\n",
    "krugs = 42+7*3+12*6\n",
    "#can be full cleared by 3:15\n",
    "#2.5min respawn\n",
    "scuttle = 77\n",
    "print(blue+red+gromp+wolves+raptors+krugs)"
   ]
  },
  {
   "cell_type": "markdown",
   "metadata": {},
   "source": [
    "# Saving Images of Champions"
   ]
  },
  {
   "cell_type": "code",
   "execution_count": null,
   "metadata": {},
   "outputs": [],
   "source": [
    "def save_champ_image(lol_watcher, version, my_region, champ):\n",
    "    version = lol_watcher.data_dragon.versions_for_region(my_region)\n",
    "    champion_icon_dict = lol_watcher.data_dragon.champions(version['n']['champion'])\n",
    "    ic = champion_icon_dict['data']['Aatrox']['image']['full']\n",
    "    cdn = version['cdn']\n",
    "    v = version['v']\n",
    "    url = f'{cdn}/{v}/img/champion/{ic}'\n",
    "    champion_icon = Image.open(requests.get(url, stream=True).raw)\n",
    "    champion_icon.save(str(champ)+'.png')\n",
    "    return champion_icon"
   ]
  },
  {
   "cell_type": "code",
   "execution_count": null,
   "metadata": {},
   "outputs": [],
   "source": [
    "# Image.save(requests.get(url, stream=True).raw)\n",
    "champ_list = ['Aatrox', 'Darius', 'Malphite', 'Riven', 'Tristana', 'Warwick']\n",
    "for champ in champ_list:\n",
    "    save_champ_image(lol_watcher, version, my_region, champ)"
   ]
  },
  {
   "cell_type": "code",
   "execution_count": null,
   "metadata": {},
   "outputs": [],
   "source": [
    "champs"
   ]
  },
  {
   "cell_type": "markdown",
   "metadata": {},
   "source": [
    "# League of Legends Language\n",
    "## Word Cloud"
   ]
  },
  {
   "cell_type": "markdown",
   "metadata": {},
   "source": [
    "As someone new to the game, I don't have a grasp on the lore of League of Legends. At glance I want to understand it, and a good option for that is a word cloud of the character blurbs."
   ]
  },
  {
   "cell_type": "code",
   "execution_count": null,
   "metadata": {},
   "outputs": [],
   "source": [
    "!pip install wordcloud"
   ]
  },
  {
   "cell_type": "code",
   "execution_count": null,
   "metadata": {},
   "outputs": [],
   "source": [
    "from wordcloud import WordCloud, STOPWORDS"
   ]
  },
  {
   "cell_type": "code",
   "execution_count": null,
   "metadata": {},
   "outputs": [],
   "source": [
    "comment_words = '' \n",
    "stopwords = set(STOPWORDS) \n",
    "  \n",
    "# iterate through the csv file \n",
    "\n",
    "for val in champs.T['blurb']: \n",
    "      \n",
    "    # typecaste each val to string \n",
    "    val = str(val) \n",
    "  \n",
    "    # split the value \n",
    "    tokens = val.split() \n",
    "      \n",
    "    # Converts each token into lowercase \n",
    "    for i in range(len(tokens)): \n",
    "        tokens[i] = tokens[i].lower() \n",
    "      \n",
    "    comment_words += \" \".join(tokens)+\" \"\n",
    "  \n",
    "wc_width = 20\n",
    "wc_height = 15\n",
    "wordcloud = WordCloud(width = wc_width*100, height = wc_height*100, \n",
    "                background_color ='white', \n",
    "                stopwords = stopwords, \n",
    "                min_font_size = 10).generate(comment_words) \n",
    "  \n",
    "# plot the WordCloud image                        \n",
    "plt.figure(figsize = (wc_width, wc_height), facecolor = None) \n",
    "plt.imshow(wordcloud, interpolation=\"bilinear\") \n",
    "plt.axis(\"off\") \n",
    "plt.tight_layout(pad = 0) \n",
    "  \n",
    "plt.show() "
   ]
  },
  {
   "cell_type": "code",
   "execution_count": null,
   "metadata": {},
   "outputs": [],
   "source": [
    "# league_mask = np.array(Image.open(\"league_icon.png\"))\n",
    "league_mask = np.array(Image.open(\"Untitled.png\"))\n",
    "# np.flatten(league_mask)\n",
    "# league_mask = league_mask.flatten()\n",
    "league_mask = league_mask.transpose(2,0,1).reshape(-1,league_mask.shape[1])\n",
    "league_mask"
   ]
  },
  {
   "cell_type": "code",
   "execution_count": null,
   "metadata": {},
   "outputs": [],
   "source": [
    "league_mask = league_mask[0:int(league_mask.shape[0]/4)]"
   ]
  },
  {
   "cell_type": "code",
   "execution_count": null,
   "metadata": {},
   "outputs": [],
   "source": [
    "# league_mask[0:int(league_mask.shape[0]/4)].shape\n",
    "league_mask.shape"
   ]
  },
  {
   "cell_type": "code",
   "execution_count": null,
   "metadata": {},
   "outputs": [],
   "source": [
    "np.unique(league_mask)"
   ]
  },
  {
   "cell_type": "code",
   "execution_count": null,
   "metadata": {},
   "outputs": [],
   "source": [
    "# def transform_format(val):\n",
    "#     if val == 0:\n",
    "#         return 255\n",
    "#     else:\n",
    "#         return val\n",
    "def transform_format(val):\n",
    "    if val != 255:\n",
    "        return 0\n",
    "#     elif val == 0:\n",
    "#         return 255\n",
    "    else:\n",
    "        return val"
   ]
  },
  {
   "cell_type": "code",
   "execution_count": null,
   "metadata": {},
   "outputs": [],
   "source": [
    "# Transform your mask into a new one that will work with the function:\n",
    "transformed_league_mask = np.ndarray((league_mask.shape[0],league_mask.shape[1]), np.int32)\n",
    "\n",
    "for i in range(len(league_mask)):\n",
    "    transformed_league_mask[i] = list(map(transform_format, league_mask[i]))"
   ]
  },
  {
   "cell_type": "code",
   "execution_count": null,
   "metadata": {},
   "outputs": [],
   "source": [
    "# transformed_league_mask\n",
    "comment_words"
   ]
  },
  {
   "cell_type": "code",
   "execution_count": null,
   "metadata": {},
   "outputs": [],
   "source": [
    "# Create a word cloud image\n",
    "wc = WordCloud(background_color=\"white\", max_words=1000, mask=transformed_league_mask,\n",
    "               stopwords=stopwords, contour_width=3, contour_color='black')\n",
    "\n",
    "# Generate a wordcloud\n",
    "wc.generate(comment_words)\n",
    "\n",
    "# # store to file\n",
    "# wc.to_file(\"img/wine.png\")\n",
    "\n",
    "# show\n",
    "plt.figure(figsize=[10,10])\n",
    "plt.imshow(wc, interpolation='bilinear')\n",
    "plt.axis(\"off\")\n",
    "plt.show()"
   ]
  },
  {
   "cell_type": "markdown",
   "metadata": {},
   "source": [
    "## New Character Blurb Creation\n",
    "From the blurbs what if we tried to make a new champion, what would the blurb look like. Well we can train an nlp algorithm to take a stab at it."
   ]
  },
  {
   "cell_type": "code",
   "execution_count": null,
   "metadata": {},
   "outputs": [],
   "source": []
  }
 ],
 "metadata": {
  "kernelspec": {
   "display_name": "Python 3",
   "language": "python",
   "name": "python3"
  },
  "language_info": {
   "codemirror_mode": {
    "name": "ipython",
    "version": 3
   },
   "file_extension": ".py",
   "mimetype": "text/x-python",
   "name": "python",
   "nbconvert_exporter": "python",
   "pygments_lexer": "ipython3",
   "version": "3.7.1"
  }
 },
 "nbformat": 4,
 "nbformat_minor": 2
}
